{
 "cells": [
  {
   "cell_type": "code",
   "execution_count": 1,
   "id": "6a645d24",
   "metadata": {},
   "outputs": [
    {
     "name": "stdout",
     "output_type": "stream",
     "text": [
      "Transformed full data: \n",
      "       country             category     revenue\n",
      "0  Afghanistan          Accessories  594.934084\n",
      "1  Afghanistan           Automotive  126.415915\n",
      "2  Afghanistan               Beauty  199.748898\n",
      "3  Afghanistan          Electronics  309.762424\n",
      "4  Afghanistan              Fitness   80.788795\n",
      "5  Afghanistan        Food - Bakery   23.468631\n",
      "6  Afghanistan        Food - Baking    1.065612\n",
      "7  Afghanistan  Food - Baking Goods   30.451000\n",
      "8  Afghanistan     Food - Beverages   41.811083\n",
      "9  Afghanistan     Food - Breakfast   88.269998\n",
      "\n",
      "Transformed incremental data: \n",
      "     payment_method                category      revenue\n",
      "0  Cash_Transaction             Accessories  2497.745556\n",
      "1  Cash_Transaction                    Apps   104.101440\n",
      "2  Cash_Transaction                   Audio  2212.266090\n",
      "3  Cash_Transaction              Automotive   257.701828\n",
      "4  Cash_Transaction                  Beauty  1116.009840\n",
      "5  Cash_Transaction                Bicycles  8336.279603\n",
      "6  Cash_Transaction                   Books   280.997298\n",
      "7  Cash_Transaction                Clothing   277.126844\n",
      "8  Cash_Transaction  Clothing - Accessories  3179.712872\n",
      "9  Cash_Transaction   Clothing - Activewear   138.020801\n"
     ]
    }
   ],
   "source": [
    "# Load necessary libraries\n",
    "import sqlite3 as sql\n",
    "import pandas as pd\n",
    "\n",
    "# load data from a CSV file into a SQLite database\n",
    "conn = sql.connect('loaded/full_data.db')\n",
    "\n",
    "df_full = pd.read_csv('transformed/transformed_full.csv')\n",
    "df_incremental = pd.read_csv('transformed/transformed_incremental.csv')\n",
    "\n",
    "df_full.to_sql('full_data', conn, if_exists='replace', index=False)\n",
    "df_incremental.to_sql('incremental_data', conn, if_exists='replace', index=False)\n",
    "\n",
    "# Verify the data load\n",
    "print(f\"Transformed full data: \\n{pd.read_sql('SELECT * FROM full_data LIMIT 10', conn)}\\n\")\n",
    "print(f\"Transformed incremental data: \\n{pd.read_sql('SELECT * FROM incremental_data LIMIT 10', conn)}\")"
   ]
  },
  {
   "cell_type": "code",
   "execution_count": 2,
   "id": "a255f5fa",
   "metadata": {},
   "outputs": [
    {
     "name": "stdout",
     "output_type": "stream",
     "text": [
      "Full data columns and types: \n",
      "   cid      name  type  notnull dflt_value  pk\n",
      "0    0   country  TEXT        0       None   0\n",
      "1    1  category  TEXT        0       None   0\n",
      "2    2   revenue  REAL        0       None   0\n",
      "\n",
      "Full data record count: 2823\n",
      "\n",
      "Incremental data columns and types: \n",
      "   cid            name  type  notnull dflt_value  pk\n",
      "0    0  payment_method  TEXT        0       None   0\n",
      "1    1        category  TEXT        0       None   0\n",
      "2    2         revenue  REAL        0       None   0\n",
      "\n",
      "Incremental data record count: 362\n"
     ]
    }
   ],
   "source": [
    "# Confirm correct column names, datatypes, and record counts\n",
    "print(f\"Full data columns and types: \\n{pd.read_sql('PRAGMA table_info(full_data)', conn)}\\n\")\n",
    "print(f\"Full data record count: {pd.read_sql('SELECT COUNT(*) FROM full_data', conn).iloc[0,0]}\\n\")\n",
    "print(f\"Incremental data columns and types: \\n{pd.read_sql('PRAGMA table_info(incremental_data)', conn)}\\n\")\n",
    "print(f\"Incremental data record count: {pd.read_sql('SELECT COUNT(*) FROM incremental_data', conn).iloc[0,0]}\") "
   ]
  },
  {
   "cell_type": "code",
   "execution_count": null,
   "id": "09db8ad2",
   "metadata": {},
   "outputs": [],
   "source": [
    "# Save database and files to the loaded/ folder\n",
    "conn.commit()\n",
    "conn.close()\n"
   ]
  }
 ],
 "metadata": {
  "kernelspec": {
   "display_name": "base",
   "language": "python",
   "name": "python3"
  },
  "language_info": {
   "codemirror_mode": {
    "name": "ipython",
    "version": 3
   },
   "file_extension": ".py",
   "mimetype": "text/x-python",
   "name": "python",
   "nbconvert_exporter": "python",
   "pygments_lexer": "ipython3",
   "version": "3.12.4"
  }
 },
 "nbformat": 4,
 "nbformat_minor": 5
}
